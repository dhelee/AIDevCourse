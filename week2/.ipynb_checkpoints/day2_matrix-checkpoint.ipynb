{
 "cells": [
  {
   "cell_type": "markdown",
   "metadata": {},
   "source": [
    "# 2주차 Day2[인공지능 수학 - 미적분] 실습\n",
    "\n",
    "## 스칼라, 벡터, 행렬, 그리고 텐서: 계층구조 이해하기"
   ]
  },
  {
   "cell_type": "code",
   "execution_count": 1,
   "metadata": {},
   "outputs": [],
   "source": [
    "import numpy as np"
   ]
  },
  {
   "cell_type": "markdown",
   "metadata": {},
   "source": [
    "### 스칼라"
   ]
  },
  {
   "cell_type": "code",
   "execution_count": 2,
   "metadata": {},
   "outputs": [
    {
     "name": "stdout",
     "output_type": "stream",
     "text": [
      "a: 3\n",
      "()\n"
     ]
    }
   ],
   "source": [
    "s = 3\n",
    "\n",
    "print(\"a:\", s)\n",
    "print(np.shape(s))"
   ]
  },
  {
   "cell_type": "code",
   "execution_count": 3,
   "metadata": {},
   "outputs": [
    {
     "name": "stdout",
     "output_type": "stream",
     "text": [
      "a: [3]\n",
      "(1,)\n"
     ]
    }
   ],
   "source": [
    "# 스칼라를 벡터로 변환\n",
    "a = np.reshape(s, (1,))\n",
    "\n",
    "print(\"a:\", a)\n",
    "print(np.shape(a))"
   ]
  },
  {
   "cell_type": "code",
   "execution_count": 4,
   "metadata": {},
   "outputs": [
    {
     "name": "stdout",
     "output_type": "stream",
     "text": [
      "a: [[3]]\n",
      "(1, 1)\n"
     ]
    }
   ],
   "source": [
    "# 스칼라를 행렬로 변환\n",
    "a = np.reshape(s, (1,1))\n",
    "\n",
    "print(\"a:\", a)\n",
    "print(np.shape(a))"
   ]
  },
  {
   "cell_type": "code",
   "execution_count": 5,
   "metadata": {},
   "outputs": [
    {
     "name": "stdout",
     "output_type": "stream",
     "text": [
      "a: [[[3]]]\n",
      "(1, 1, 1)\n"
     ]
    }
   ],
   "source": [
    "# 스칼라를 3-텐서로 변환\n",
    "a = np.reshape(s, (1,1,1))\n",
    "\n",
    "print(\"a:\", a)\n",
    "print(np.shape(a))"
   ]
  },
  {
   "cell_type": "markdown",
   "metadata": {},
   "source": [
    "### 벡터"
   ]
  },
  {
   "cell_type": "code",
   "execution_count": 6,
   "metadata": {},
   "outputs": [
    {
     "name": "stdout",
     "output_type": "stream",
     "text": [
      "a: [ 1  2  3  4  5  6  7  8  9 10 11 12 13 14 15 16 17 18 19 20 21 22 23 24]\n",
      "(24,)\n"
     ]
    }
   ],
   "source": [
    "# 24-벡터\n",
    "a = np.array([1, 2, 3, 4, 5, 6, 7, 8, 9, 10, 11, 12, 13, 14, 15, 16, 17, 18, 19, 20, 21, 22, 23, 24])\n",
    "\n",
    "print(\"a:\", a)\n",
    "print(np.shape(a))"
   ]
  },
  {
   "cell_type": "code",
   "execution_count": 7,
   "metadata": {},
   "outputs": [
    {
     "name": "stdout",
     "output_type": "stream",
     "text": [
      "A: [[ 1  2  3  4  5  6  7  8  9 10 11 12 13 14 15 16 17 18 19 20 21 22 23 24]]\n",
      "A: (1, 24)\n"
     ]
    }
   ],
   "source": [
    "# 24-벡터 --> (1x24) 행렬\n",
    "A = a.reshape(1,24)\n",
    "\n",
    "print(\"A:\", A)\n",
    "print(\"A:\", np.shape(A))"
   ]
  },
  {
   "cell_type": "code",
   "execution_count": 8,
   "metadata": {},
   "outputs": [
    {
     "name": "stdout",
     "output_type": "stream",
     "text": [
      "A: [[ 1  2  3  4  5  6  7  8]\n",
      " [ 9 10 11 12 13 14 15 16]\n",
      " [17 18 19 20 21 22 23 24]]\n",
      "A: (3, 8)\n"
     ]
    }
   ],
   "source": [
    "# 24-벡터 --> (3x8) 행렬\n",
    "A = a.reshape(3,8)\n",
    "\n",
    "print(\"A:\", A)\n",
    "print(\"A:\", np.shape(A))"
   ]
  },
  {
   "cell_type": "code",
   "execution_count": 9,
   "metadata": {},
   "outputs": [
    {
     "name": "stdout",
     "output_type": "stream",
     "text": [
      "A: [[ 1  2  3  4]\n",
      " [ 5  6  7  8]\n",
      " [ 9 10 11 12]\n",
      " [13 14 15 16]\n",
      " [17 18 19 20]\n",
      " [21 22 23 24]]\n",
      "A: (6, 4)\n"
     ]
    }
   ],
   "source": [
    "# 24-벡터 --> (6x4) 행렬\n",
    "A = a.reshape(6,4)\n",
    "\n",
    "print(\"A:\", A)\n",
    "print(\"A:\", np.shape(A))"
   ]
  },
  {
   "cell_type": "code",
   "execution_count": 10,
   "metadata": {},
   "outputs": [
    {
     "name": "stdout",
     "output_type": "stream",
     "text": [
      "A: [[ 1]\n",
      " [ 2]\n",
      " [ 3]\n",
      " [ 4]\n",
      " [ 5]\n",
      " [ 6]\n",
      " [ 7]\n",
      " [ 8]\n",
      " [ 9]\n",
      " [10]\n",
      " [11]\n",
      " [12]\n",
      " [13]\n",
      " [14]\n",
      " [15]\n",
      " [16]\n",
      " [17]\n",
      " [18]\n",
      " [19]\n",
      " [20]\n",
      " [21]\n",
      " [22]\n",
      " [23]\n",
      " [24]]\n",
      "A: (24, 1)\n"
     ]
    }
   ],
   "source": [
    "# 24-벡터 --> (24x1) 행렬\n",
    "A = a.reshape(24,1)\n",
    "\n",
    "print(\"A:\", A)\n",
    "print(\"A:\", np.shape(A))"
   ]
  },
  {
   "cell_type": "code",
   "execution_count": 11,
   "metadata": {},
   "outputs": [
    {
     "name": "stdout",
     "output_type": "stream",
     "text": [
      "A: [[[ 1  2  3  4]\n",
      "  [ 5  6  7  8]\n",
      "  [ 9 10 11 12]]\n",
      "\n",
      " [[13 14 15 16]\n",
      "  [17 18 19 20]\n",
      "  [21 22 23 24]]]\n",
      "A: (2, 3, 4)\n"
     ]
    }
   ],
   "source": [
    "# 24-벡터 --> (2x3x4) 텐서 (즉, 2개의 (3x4)행렬)\n",
    "A = a.reshape(2, 3, 4)\n",
    "\n",
    "print(\"A:\", A)\n",
    "print(\"A:\", np.shape(A))"
   ]
  },
  {
   "cell_type": "code",
   "execution_count": 12,
   "metadata": {},
   "outputs": [
    {
     "name": "stdout",
     "output_type": "stream",
     "text": [
      "1\n",
      "300\n"
     ]
    }
   ],
   "source": [
    "# 벡터 --> 스칼라 (X)\n",
    "## error: 벡터 a가 하나의 entry로 되어 있지 않기 때문에 아래의 경우는 모두 에러\n",
    "# s = np.reshape(a, ())\n",
    "# s = a.item()            \n",
    "\n",
    "s = a[0]\n",
    "print(s)\n",
    "\n",
    "s = a.sum()\n",
    "print(s)"
   ]
  },
  {
   "cell_type": "markdown",
   "metadata": {},
   "source": [
    "### 행렬"
   ]
  },
  {
   "cell_type": "code",
   "execution_count": 13,
   "metadata": {},
   "outputs": [
    {
     "name": "stdout",
     "output_type": "stream",
     "text": [
      "[[ 1  2  3]\n",
      " [ 4  5  6]\n",
      " [ 7  8  9]\n",
      " [10 11 12]]\n",
      "(4, 3)\n"
     ]
    }
   ],
   "source": [
    "A = np.array([[1, 2, 3], [4, 5, 6], [7, 8, 9,], [10, 11, 12]])\n",
    "\n",
    "print(A)\n",
    "print(np.shape(A))"
   ]
  },
  {
   "cell_type": "code",
   "execution_count": 14,
   "metadata": {},
   "outputs": [
    {
     "name": "stdout",
     "output_type": "stream",
     "text": [
      "[[[ 1  2  3]\n",
      "  [ 4  5  6]\n",
      "  [ 7  8  9]\n",
      "  [10 11 12]]]\n",
      "(1, 4, 3)\n",
      "[[[ 1  2  3]\n",
      "  [ 4  5  6]]\n",
      "\n",
      " [[ 7  8  9]\n",
      "  [10 11 12]]]\n",
      "(2, 2, 3)\n",
      "[[[ 1  2]\n",
      "  [ 3  4]\n",
      "  [ 5  6]]\n",
      "\n",
      " [[ 7  8]\n",
      "  [ 9 10]\n",
      "  [11 12]]]\n",
      "(2, 3, 2)\n"
     ]
    }
   ],
   "source": [
    "# 행렬 --> 3-텐서\n",
    "\n",
    "#\n",
    "T = A.reshape(1, 4, 3)\n",
    "\n",
    "print(T)\n",
    "print(np.shape(T))\n",
    "\n",
    "#\n",
    "T = A.reshape(2, 2, 3)\n",
    "\n",
    "print(T)\n",
    "print(np.shape(T))\n",
    "\n",
    "#\n",
    "T = A.reshape(2, 3, 2)\n",
    "\n",
    "print(T)\n",
    "print(np.shape(T))"
   ]
  },
  {
   "cell_type": "code",
   "execution_count": 15,
   "metadata": {},
   "outputs": [
    {
     "name": "stdout",
     "output_type": "stream",
     "text": [
      "[ 1  2  3  4  5  6  7  8  9 10 11 12]\n",
      "(12,)\n"
     ]
    }
   ],
   "source": [
    "# 행렬 --> 벡터\n",
    "a = A.reshape(12,)\n",
    "\n",
    "print(a)\n",
    "print(np.shape(a))"
   ]
  },
  {
   "cell_type": "code",
   "execution_count": 16,
   "metadata": {},
   "outputs": [
    {
     "name": "stdout",
     "output_type": "stream",
     "text": [
      "1\n",
      "()\n",
      "78\n",
      "()\n"
     ]
    }
   ],
   "source": [
    "#행렬 --> 스칼라\n",
    "\n",
    "#\n",
    "s = A[0,0]\n",
    "\n",
    "print(s)\n",
    "print(np.shape(s))\n",
    "\n",
    "#\n",
    "s = np.sum(A)\n",
    "\n",
    "print(s)\n",
    "print(np.shape(s))"
   ]
  },
  {
   "cell_type": "markdown",
   "metadata": {},
   "source": [
    "### 텐서\n",
    "스칼라, 벡터, 행렬을 아우르는 개념으로 숫자가 늘어설 수 있는 방향이 k개면 k-텐서로 부른다."
   ]
  },
  {
   "cell_type": "code",
   "execution_count": 17,
   "metadata": {},
   "outputs": [
    {
     "name": "stdout",
     "output_type": "stream",
     "text": [
      "[[[ 1  2  3]\n",
      "  [ 4  5  6]]\n",
      "\n",
      " [[ 7  8  9]\n",
      "  [10 11 12]]]\n",
      "(2, 2, 3)\n"
     ]
    }
   ],
   "source": [
    "T = np.array([[[1, 2, 3], [4, 5, 6]], [[7, 8, 9,], [10, 11, 12]]])\n",
    "\n",
    "print(T)\n",
    "print(np.shape(T))"
   ]
  },
  {
   "cell_type": "code",
   "execution_count": 18,
   "metadata": {},
   "outputs": [
    {
     "name": "stdout",
     "output_type": "stream",
     "text": [
      "[[ 1  2  3]\n",
      " [ 4  5  6]\n",
      " [ 7  8  9]\n",
      " [10 11 12]]\n",
      "(4, 3)\n",
      "[[ 1  2  3  4]\n",
      " [ 5  6  7  8]\n",
      " [ 9 10 11 12]]\n",
      "(3, 4)\n"
     ]
    }
   ],
   "source": [
    "# 3-텐서 --> 행렬\n",
    "A = T.reshape(4, 3)\n",
    "\n",
    "print(A)\n",
    "print(np.shape(A))\n",
    "\n",
    "A = T.reshape(3, 4)\n",
    "\n",
    "print(A)\n",
    "print(np.shape(A))"
   ]
  },
  {
   "cell_type": "code",
   "execution_count": 19,
   "metadata": {},
   "outputs": [
    {
     "name": "stdout",
     "output_type": "stream",
     "text": [
      "[ 1  2  3  4  5  6  7  8  9 10 11 12]\n",
      "(12,)\n"
     ]
    }
   ],
   "source": [
    "# 3-텐서 --> 벡터\n",
    "a = T.reshape(12,)\n",
    "\n",
    "print(a)\n",
    "print(np.shape(a))"
   ]
  },
  {
   "cell_type": "code",
   "execution_count": 20,
   "metadata": {},
   "outputs": [
    {
     "name": "stdout",
     "output_type": "stream",
     "text": [
      "78\n",
      "()\n"
     ]
    }
   ],
   "source": [
    "# 3-텐서 --> 스칼라\n",
    "s = T.sum()\n",
    "\n",
    "print(s)\n",
    "print(np.shape(s))"
   ]
  },
  {
   "cell_type": "code",
   "execution_count": null,
   "metadata": {},
   "outputs": [],
   "source": []
  }
 ],
 "metadata": {
  "kernelspec": {
   "display_name": "Python 3",
   "language": "python",
   "name": "python3"
  },
  "language_info": {
   "codemirror_mode": {
    "name": "ipython",
    "version": 3
   },
   "file_extension": ".py",
   "mimetype": "text/x-python",
   "name": "python",
   "nbconvert_exporter": "python",
   "pygments_lexer": "ipython3",
   "version": "3.8.3"
  }
 },
 "nbformat": 4,
 "nbformat_minor": 4
}
