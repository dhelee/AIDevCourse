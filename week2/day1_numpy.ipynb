{
 "cells": [
  {
   "cell_type": "markdown",
   "metadata": {},
   "source": [
    "## 인공지능 수학 - 선형대수(Numpy 실습)\n",
    "\n",
    "### 행렬과 벡터의 코딩 및 연산"
   ]
  },
  {
   "cell_type": "code",
   "execution_count": 1,
   "metadata": {},
   "outputs": [],
   "source": [
    "import numpy as np"
   ]
  },
  {
   "cell_type": "code",
   "execution_count": 2,
   "metadata": {},
   "outputs": [
    {
     "name": "stdout",
     "output_type": "stream",
     "text": [
      "[[ 3  1  1]\n",
      " [ 1 -2 -1]\n",
      " [ 1  1  1]]\n",
      "(3, 3)\n"
     ]
    }
   ],
   "source": [
    "# 행렬 코딩\n",
    "A = np.array([[3, 1, 1], [1, -2, -1], [1, 1, 1]])\n",
    "\n",
    "print(A)\n",
    "print(np.shape(A))"
   ]
  },
  {
   "cell_type": "code",
   "execution_count": 3,
   "metadata": {},
   "outputs": [
    {
     "name": "stdout",
     "output_type": "stream",
     "text": [
      "[4 1 2]\n",
      "(3,)\n"
     ]
    }
   ],
   "source": [
    "# 벡터 코딩\n",
    "b = np.array([4, 1, 2])\n",
    "\n",
    "print(b)\n",
    "print(np.shape(b))"
   ]
  },
  {
   "cell_type": "code",
   "execution_count": 4,
   "metadata": {},
   "outputs": [
    {
     "name": "stdout",
     "output_type": "stream",
     "text": [
      "[[ 5.00000000e-01 -7.40148683e-17 -5.00000000e-01]\n",
      " [ 1.00000000e+00 -1.00000000e+00 -2.00000000e+00]\n",
      " [-1.50000000e+00  1.00000000e+00  3.50000000e+00]]\n",
      "(3, 3)\n"
     ]
    }
   ],
   "source": [
    "# 역행렬 구하기\n",
    "A_inv = np.linalg.inv(A)\n",
    "\n",
    "print(A_inv)\n",
    "print(np.shape(A_inv))"
   ]
  },
  {
   "cell_type": "code",
   "execution_count": 5,
   "metadata": {},
   "outputs": [
    {
     "name": "stdout",
     "output_type": "stream",
     "text": [
      "[ 1. -1.  2.]\n",
      "(3,)\n"
     ]
    }
   ],
   "source": [
    "# 역행렬을 이용한 선형시스템 Ax = b의 해 구하기\n",
    "# x = np.matmul(A_inv, b)\n",
    "x = A_inv @ b\n",
    "\n",
    "print(x)\n",
    "print(np.shape(x))"
   ]
  },
  {
   "cell_type": "code",
   "execution_count": 6,
   "metadata": {},
   "outputs": [
    {
     "name": "stdout",
     "output_type": "stream",
     "text": [
      "(3,)\n",
      "[4. 1. 2.]\n",
      "OK\n"
     ]
    }
   ],
   "source": [
    "## 결과 검증\n",
    "# bb = np.matmul(A, x)\n",
    "bb = A @ x\n",
    "\n",
    "print(np.shape(bb))\n",
    "print(bb)\n",
    "\n",
    "# 실제 b와 계산해서 구한 bb벡터의 차이(크기)를 구해 검증\n",
    "if np.linalg.norm(b - bb) < 1e-3:\n",
    "    print('OK')\n",
    "else:\n",
    "    print('something wrong')"
   ]
  },
  {
   "cell_type": "code",
   "execution_count": null,
   "metadata": {},
   "outputs": [],
   "source": []
  }
 ],
 "metadata": {
  "kernelspec": {
   "display_name": "Python 3",
   "language": "python",
   "name": "python3"
  },
  "language_info": {
   "codemirror_mode": {
    "name": "ipython",
    "version": 3
   },
   "file_extension": ".py",
   "mimetype": "text/x-python",
   "name": "python",
   "nbconvert_exporter": "python",
   "pygments_lexer": "ipython3",
   "version": "3.8.3"
  }
 },
 "nbformat": 4,
 "nbformat_minor": 4
}
